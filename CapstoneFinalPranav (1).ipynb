{
 "cells": [
  {
   "cell_type": "markdown",
   "metadata": {},
   "source": [
    "# Pranav Bhagat"
   ]
  },
  {
   "cell_type": "markdown",
   "metadata": {},
   "source": [
    "# Data Cleaning"
   ]
  },
  {
   "cell_type": "code",
   "execution_count": 1,
   "metadata": {},
   "outputs": [],
   "source": [
    "#Import Libraries\n",
    "import pandas as pd\n",
    "pd.set_option('display.max_columns', None)"
   ]
  },
  {
   "cell_type": "code",
   "execution_count": 2,
   "metadata": {},
   "outputs": [],
   "source": [
    "def cleanData(person_df, household_df, post2018 = True):\n",
    "    person_df = person_df\n",
    "    household_df = household_df\n",
    "    pFeatures = [\"SERIALNO\", \"SPORDER\", \"PUMA\", \"PWGTP\", \"AGEP\", \"CIT\", \"COW\", \"ENG\", \"FER\", \"JWMNP\"\n",
    "               , \"MAR\", \"MIL\", \"SCH\", \"SCHL\", \"SEX\", \"PAP\", \"INTP\", \"SSIP\", \"SSP\", \"WAGP\"\n",
    "               , \"OIP\", \"RETP\", \"SEMP\", \"PERNP\", \"PINCP\", \"WKL\", \"DIS\", \"ESR\", \"HICOV\", \"HISP\"\n",
    "               , \"PAOC\", \"POVPIP\", \"RAC1P\", \"RACASN\", \"RACBLK\", \"RACWHT\", \"RACSOR\", \"SCIENGP\", \"WKHP\"\n",
    "               , \"SOCP\"]\n",
    "    if post2018:\n",
    "        pFeatures = pFeatures + [\"RELSHIPP\", \"JWTRNS\", \"WKWN\"]\n",
    "    else:\n",
    "        pFeatures = pFeatures + [\"RELP\", \"JWTR\", \"WKW\"]\n",
    "    hFeatures = [\"SERIALNO\", \"PUMA\", \"NP\", \"ACCESS\", \"ACR\", \"BATH\", \"FS\", \"ELEP\", \"FULP\", \"GASP\", \"HISPEED\"\n",
    "              , \"LAPTOP\", \"RNTP\", \"RWATPR\", \"TEN\", \"VALP\", \"VEH\", \"WATP\", \"HINCP\", \"HUPAC\", \"KIT\", \"PLM\"\n",
    "              , \"GRPIP\", \"RMSP\"]\n",
    "    person_df = person_df.loc[:, pFeatures].copy()\n",
    "    household_df = household_df.loc[:, hFeatures].copy()\n",
    "    person_df = person_df.loc[(person_df[\"PUMA\"] > 101) & (person_df[\"PUMA\"] <= 105)].copy()\n",
    "    household_df = household_df.loc[(household_df[\"PUMA\"] > 101) & (household_df[\"PUMA\"] <= 105)].copy()\n",
    "    person_df.loc[(person_df.RAC1P == 1) & (person_df.HISP == 1), \"RACE\"] = \"White\"\n",
    "    person_df.loc[(person_df.RAC1P == 2) & (person_df.HISP == 1), \"RACE\"] = \"African American\"\n",
    "    person_df.loc[(person_df.RAC1P == 6) & (person_df.HISP == 1), \"RACE\"] = \"Asian\"\n",
    "    person_df.loc[(person_df.RAC1P.isin([3, 4, 5, 7, 8, 9])) & (person_df.HISP == 1), \"RACE\"] = \"Other\"\n",
    "    person_df.loc[person_df.HISP != 1, \"RACE\"] = \"Latino\"\n",
    "    person_df = person_df.merge(household_df, how = 'left', on = 'SERIALNO').copy()\n",
    "    person_df = person_df.reindex(person_df.index.repeat(person_df.PWGTP)).reset_index(drop=True).drop(['PWGTP', 'PUMA_y'], axis=1).rename(columns={\"PUMA_x\": \"PUMA\"}).copy()\n",
    "    return person_df"
   ]
  },
  {
   "cell_type": "code",
   "execution_count": 3,
   "metadata": {},
   "outputs": [],
   "source": [
    "def getSize(df, showDim = False, name = \"\"):\n",
    "    if name != \"\":\n",
    "        name = name + \" \"\n",
    "    if showDim:\n",
    "        print(\"Dimensions for the \" + name + \"dataset: \" + str(df.shape))\n",
    "    print(\"New DataFrame size: \" + str(int(df.memory_usage(index=True).sum()/1000000)) + \" MB\")"
   ]
  },
  {
   "cell_type": "code",
   "execution_count": 4,
   "metadata": {},
   "outputs": [],
   "source": [
    "pca191 = pd.read_csv(\"2019pCA1.csv\")\n",
    "hca191 = pd.read_csv(\"2019hCA1.csv\")\n",
    "pca191_Ok = cleanData(pca191, hca191)\n",
    "\n",
    "#pca181 = pd.read_csv(\"./Data/2018pCA1.csv\")\n",
    "#hca181 = pd.read_csv(\"./Data/2018hCA1.csv\")"
   ]
  },
  {
   "cell_type": "markdown",
   "metadata": {},
   "source": [
    "## Indicator Calculation"
   ]
  },
  {
   "cell_type": "code",
   "execution_count": 5,
   "metadata": {},
   "outputs": [],
   "source": [
    "def Main(x):\n",
    "    global PBF\n",
    "    PBF = x\n",
    "\n",
    "Main(pca191_Ok)"
   ]
  },
  {
   "cell_type": "code",
   "execution_count": 6,
   "metadata": {},
   "outputs": [],
   "source": [
    "import matplotlib.pyplot as plt\n",
    "import numpy as np"
   ]
  },
  {
   "cell_type": "markdown",
   "metadata": {},
   "source": [
    "### Health Insurance"
   ]
  },
  {
   "cell_type": "code",
   "execution_count": 7,
   "metadata": {},
   "outputs": [],
   "source": [
    "def HealthIns():\n",
    "    d1 = pd.crosstab(PBF['RACE'],PBF['HICOV'])\n",
    "    d1.columns = ['Yes','No']\n",
    "    sums = d1.select_dtypes(pd.np.number).sum().rename('Total')\n",
    "    d2 = d1.append(sums)\n",
    "    d3 = d2[['Yes','No']]\n",
    "    cols = ['Yes', 'No']\n",
    "    d3[cols] = round(d3[cols].div(d3[cols].sum(axis=1), axis=0).multiply(100),3)\n",
    "    scoreh1 = d3.iloc[4,1]/d3.iloc[0,1]\n",
    "    sh1 = 1/scoreh1\n",
    "    scoreh2 = d3.iloc[4,1]/d3.iloc[2,1]\n",
    "    sh2 = 1/scoreh2\n",
    "    Indhi = round(d2['Yes']/d2['No'],3)\n",
    "    index = ['African American','Asian','Latino','Other','White']\n",
    "    d4 = pd.DataFrame({'Have Insurance': d3.Yes,'Do not have Insurance': d3.No}, index=index)\n",
    "    plt.bar(d3.index, d3.No)\n",
    "    for i, v in enumerate(d3.No):\n",
    "        plt.text(x=i, y=v+1, s=f\"{v}\", color='blue', fontweight='bold', ha='center')\n",
    "    plt.show()\n",
    "    return Indhi, sh2, d4;"
   ]
  },
  {
   "cell_type": "code",
   "execution_count": 8,
   "metadata": {},
   "outputs": [
    {
     "name": "stderr",
     "output_type": "stream",
     "text": [
      "C:\\Users\\Pranav\\Anaconda3\\lib\\site-packages\\ipykernel_launcher.py:4: FutureWarning: The pandas.np module is deprecated and will be removed from pandas in a future version. Import numpy directly instead\n",
      "  after removing the cwd from sys.path.\n"
     ]
    },
    {
     "data": {
      "image/png": "[encoded data removed]",
      "text/plain": [
       "<Figure size 432x288 with 1 Axes>"
      ]
     },
     "metadata": {
      "needs_background": "light"
     },
     "output_type": "display_data"
    }
   ],
   "source": [
    "I1 = HealthIns()"
   ]
  },
  {
   "cell_type": "code",
   "execution_count": 9,
   "metadata": {},
   "outputs": [
    {
     "data": {
      "text/plain": [
       "5.59234608985025"
      ]
     },
     "execution_count": 9,
     "metadata": {},
     "output_type": "execute_result"
    }
   ],
   "source": [
    "I1[1]"
   ]
  },
  {
   "cell_type": "markdown",
   "metadata": {},
   "source": [
    "### Kitchen Facilities"
   ]
  },
  {
   "cell_type": "code",
   "execution_count": 10,
   "metadata": {},
   "outputs": [],
   "source": [
    "def KitchenFac():\n",
    "    k1 = pd.crosstab(PBF['RACE'], PBF['KIT'])\n",
    "    k1.columns = ['Yes','No']\n",
    "    sums = k1.select_dtypes(pd.np.number).sum().rename('Total')\n",
    "    k2 = k1.append(sums)\n",
    "    k2 = k2[['Yes','No']]\n",
    "    cols = ['Yes', 'No']\n",
    "    k2[cols] = k2[cols].div(k2[cols].sum(axis=1), axis=0).multiply(100)\n",
    "    k2 = k2[['Yes','No']]\n",
    "    scorek1 = k2.iloc[4,1]/k2.iloc[0,1]\n",
    "    sk1 = 1/scorek1\n",
    "    Ind47 = k2['Yes']/k2['No']\n",
    "    fig = plt.figure(figsize = (10, 5))\n",
    "    plt.bar(k1.index, k1.Yes, color ='blue',width = 0.4)\n",
    "    plt.xlabel(\"Race\")\n",
    "    plt.ylabel(\"Number of Households\")\n",
    "    plt.title(\"Households who have proper kitchen facilities\")\n",
    "    for index,data in enumerate(k1.Yes):\n",
    "        plt.text(x=index , y =data+1 , s=f\"{data}\" , fontdict=dict(fontsize=20), ha='center')\n",
    "    plt.show()\n",
    "    return Ind47, scorek1, fig;"
   ]
  },
  {
   "cell_type": "code",
   "execution_count": 11,
   "metadata": {},
   "outputs": [
    {
     "name": "stderr",
     "output_type": "stream",
     "text": [
      "C:\\Users\\Pranav\\Anaconda3\\lib\\site-packages\\ipykernel_launcher.py:4: FutureWarning: The pandas.np module is deprecated and will be removed from pandas in a future version. Import numpy directly instead\n",
      "  after removing the cwd from sys.path.\n"
     ]
    },
    {
     "data": {
      "image/png": "[encoded data removed]",
      "text/plain": [
       "<Figure size 720x360 with 1 Axes>"
      ]
     },
     "metadata": {
      "needs_background": "light"
     },
     "output_type": "display_data"
    }
   ],
   "source": [
    "I2 = KitchenFac()"
   ]
  },
  {
   "cell_type": "code",
   "execution_count": 12,
   "metadata": {},
   "outputs": [
    {
     "data": {
      "text/plain": [
       "1.7170270739578697"
      ]
     },
     "execution_count": 12,
     "metadata": {},
     "output_type": "execute_result"
    }
   ],
   "source": [
    "I2[1]"
   ]
  },
  {
   "cell_type": "markdown",
   "metadata": {},
   "source": [
    "### Living Wage"
   ]
  },
  {
   "cell_type": "code",
   "execution_count": 13,
   "metadata": {},
   "outputs": [],
   "source": [
    "def LivingWage():\n",
    "    w1 = PBF[['RACE','WAGP']]\n",
    "    w2 = w1.dropna()\n",
    "    conditions = [\n",
    "        (w2['WAGP'] < 20000),\n",
    "        (w2['WAGP'] > 20000) & (w2['WAGP'] < 79000),\n",
    "        (w2['WAGP'] > 79000)]\n",
    "    choices = ['0', '1', '2']\n",
    "    w2['WageCat'] = np.select(conditions, choices)\n",
    "    w6 = pd.crosstab(w2['RACE'],w2['WageCat'])\n",
    "    w6.columns = ['Less','Moderate','High']\n",
    "    sums = w6.select_dtypes(pd.np.number).sum().rename('Total')\n",
    "    w6 = w6.append(sums)\n",
    "    w6 = w6[['Less','Moderate','High']]\n",
    "    cols = ['Less', 'Moderate', 'High']\n",
    "    w6[cols] = w6[cols].div(w6[cols].sum(axis=1), axis=0).multiply(100)\n",
    "    scorew2 = w6.iloc[4,2]/w6.iloc[2,2]\n",
    "    Ind11 = w6['Less']/w6['High']\n",
    "    w7 = pd.DataFrame({'Less than 20 000': w6.Less, '20 000 to 79 000': w6.Moderate, 'Above 79 000': w6.High})\n",
    "    fig = plt.figure(figsize = (15,15))\n",
    "    w7.plot(kind='bar', stacked=True)\n",
    " \n",
    "    \n",
    "   \n",
    "    return Ind11, w6, scorew2, fig;"
   ]
  },
  {
   "cell_type": "code",
   "execution_count": 14,
   "metadata": {},
   "outputs": [
    {
     "name": "stderr",
     "output_type": "stream",
     "text": [
      "C:\\Users\\Pranav\\Anaconda3\\lib\\site-packages\\ipykernel_launcher.py:9: SettingWithCopyWarning: \n",
      "A value is trying to be set on a copy of a slice from a DataFrame.\n",
      "Try using .loc[row_indexer,col_indexer] = value instead\n",
      "\n",
      "See the caveats in the documentation: https://pandas.pydata.org/pandas-docs/stable/user_guide/indexing.html#returning-a-view-versus-a-copy\n",
      "  if __name__ == '__main__':\n",
      "C:\\Users\\Pranav\\Anaconda3\\lib\\site-packages\\ipykernel_launcher.py:12: FutureWarning: The pandas.np module is deprecated and will be removed from pandas in a future version. Import numpy directly instead\n",
      "  if sys.path[0] == '':\n"
     ]
    },
    {
     "data": {
      "text/plain": [
       "<Figure size 1080x1080 with 0 Axes>"
      ]
     },
     "metadata": {},
     "output_type": "display_data"
    },
    {
     "data": {
      "image/png": "[encoded data removed]",
      "text/plain": [
       "<Figure size 432x288 with 1 Axes>"
      ]
     },
     "metadata": {
      "needs_background": "light"
     },
     "output_type": "display_data"
    }
   ],
   "source": [
    "I3 = LivingWage()"
   ]
  },
  {
   "cell_type": "code",
   "execution_count": 15,
   "metadata": {},
   "outputs": [
    {
     "data": {
      "text/plain": [
       "RACE\n",
       "African American    5.933209\n",
       "Asian               2.426370\n",
       "Latino              5.010740\n",
       "Other               2.879544\n",
       "White               1.274874\n",
       "Total               2.487404\n",
       "dtype: float64"
      ]
     },
     "execution_count": 15,
     "metadata": {},
     "output_type": "execute_result"
    }
   ],
   "source": [
    "I3[0]"
   ]
  },
  {
   "cell_type": "markdown",
   "metadata": {},
   "source": [
    "### Attrition from Field Training"
   ]
  },
  {
   "cell_type": "code",
   "execution_count": 16,
   "metadata": {},
   "outputs": [],
   "source": [
    "dataf = [['African American', 17, 8], ['Asian', 18, 11], ['Latino', 46, 16], ['Other', 10, 1], ['White', 27, 3],['Total',118,39]]"
   ]
  },
  {
   "cell_type": "code",
   "execution_count": 17,
   "metadata": {},
   "outputs": [],
   "source": [
    "FTO1 = pd.DataFrame(dataf, columns = ['Race','Completed','DNC'])"
   ]
  },
  {
   "cell_type": "code",
   "execution_count": 18,
   "metadata": {},
   "outputs": [],
   "source": [
    "FTO1.set_index('Race', inplace=True)"
   ]
  },
  {
   "cell_type": "code",
   "execution_count": 19,
   "metadata": {},
   "outputs": [
    {
     "data": {
      "text/html": [
       "<div>\n",
       "<style scoped>\n",
       "    .dataframe tbody tr th:only-of-type {\n",
       "        vertical-align: middle;\n",
       "    }\n",
       "\n",
       "    .dataframe tbody tr th {\n",
       "        vertical-align: top;\n",
       "    }\n",
       "\n",
       "    .dataframe thead th {\n",
       "        text-align: right;\n",
       "    }\n",
       "</style>\n",
       "<table border=\"1\" class=\"dataframe\">\n",
       "  <thead>\n",
       "    <tr style=\"text-align: right;\">\n",
       "      <th></th>\n",
       "      <th>Completed</th>\n",
       "      <th>DNC</th>\n",
       "    </tr>\n",
       "    <tr>\n",
       "      <th>Race</th>\n",
       "      <th></th>\n",
       "      <th></th>\n",
       "    </tr>\n",
       "  </thead>\n",
       "  <tbody>\n",
       "    <tr>\n",
       "      <th>African American</th>\n",
       "      <td>17</td>\n",
       "      <td>8</td>\n",
       "    </tr>\n",
       "    <tr>\n",
       "      <th>Asian</th>\n",
       "      <td>18</td>\n",
       "      <td>11</td>\n",
       "    </tr>\n",
       "    <tr>\n",
       "      <th>Latino</th>\n",
       "      <td>46</td>\n",
       "      <td>16</td>\n",
       "    </tr>\n",
       "    <tr>\n",
       "      <th>Other</th>\n",
       "      <td>10</td>\n",
       "      <td>1</td>\n",
       "    </tr>\n",
       "    <tr>\n",
       "      <th>White</th>\n",
       "      <td>27</td>\n",
       "      <td>3</td>\n",
       "    </tr>\n",
       "    <tr>\n",
       "      <th>Total</th>\n",
       "      <td>118</td>\n",
       "      <td>39</td>\n",
       "    </tr>\n",
       "  </tbody>\n",
       "</table>\n",
       "</div>"
      ],
      "text/plain": [
       "                  Completed  DNC\n",
       "Race                            \n",
       "African American         17    8\n",
       "Asian                    18   11\n",
       "Latino                   46   16\n",
       "Other                    10    1\n",
       "White                    27    3\n",
       "Total                   118   39"
      ]
     },
     "execution_count": 19,
     "metadata": {},
     "output_type": "execute_result"
    }
   ],
   "source": [
    "FTO1"
   ]
  },
  {
   "cell_type": "code",
   "execution_count": 20,
   "metadata": {},
   "outputs": [],
   "source": [
    "FTO1 = FTO1[['Completed','DNC']]\n",
    "cols = ['Completed', 'DNC']\n",
    "FTO1[cols] = round(FTO1[cols].div(FTO1[cols].sum(axis=1), axis=0).multiply(100),3)"
   ]
  },
  {
   "cell_type": "code",
   "execution_count": 21,
   "metadata": {},
   "outputs": [
    {
     "data": {
      "text/html": [
       "<div>\n",
       "<style scoped>\n",
       "    .dataframe tbody tr th:only-of-type {\n",
       "        vertical-align: middle;\n",
       "    }\n",
       "\n",
       "    .dataframe tbody tr th {\n",
       "        vertical-align: top;\n",
       "    }\n",
       "\n",
       "    .dataframe thead th {\n",
       "        text-align: right;\n",
       "    }\n",
       "</style>\n",
       "<table border=\"1\" class=\"dataframe\">\n",
       "  <thead>\n",
       "    <tr style=\"text-align: right;\">\n",
       "      <th></th>\n",
       "      <th>Completed</th>\n",
       "      <th>DNC</th>\n",
       "    </tr>\n",
       "    <tr>\n",
       "      <th>Race</th>\n",
       "      <th></th>\n",
       "      <th></th>\n",
       "    </tr>\n",
       "  </thead>\n",
       "  <tbody>\n",
       "    <tr>\n",
       "      <th>African American</th>\n",
       "      <td>68.000</td>\n",
       "      <td>32.000</td>\n",
       "    </tr>\n",
       "    <tr>\n",
       "      <th>Asian</th>\n",
       "      <td>62.069</td>\n",
       "      <td>37.931</td>\n",
       "    </tr>\n",
       "    <tr>\n",
       "      <th>Latino</th>\n",
       "      <td>74.194</td>\n",
       "      <td>25.806</td>\n",
       "    </tr>\n",
       "    <tr>\n",
       "      <th>Other</th>\n",
       "      <td>90.909</td>\n",
       "      <td>9.091</td>\n",
       "    </tr>\n",
       "    <tr>\n",
       "      <th>White</th>\n",
       "      <td>90.000</td>\n",
       "      <td>10.000</td>\n",
       "    </tr>\n",
       "    <tr>\n",
       "      <th>Total</th>\n",
       "      <td>75.159</td>\n",
       "      <td>24.841</td>\n",
       "    </tr>\n",
       "  </tbody>\n",
       "</table>\n",
       "</div>"
      ],
      "text/plain": [
       "                  Completed     DNC\n",
       "Race                               \n",
       "African American     68.000  32.000\n",
       "Asian                62.069  37.931\n",
       "Latino               74.194  25.806\n",
       "Other                90.909   9.091\n",
       "White                90.000  10.000\n",
       "Total                75.159  24.841"
      ]
     },
     "execution_count": 21,
     "metadata": {},
     "output_type": "execute_result"
    }
   ],
   "source": [
    "FTO1"
   ]
  },
  {
   "cell_type": "code",
   "execution_count": 22,
   "metadata": {},
   "outputs": [],
   "source": [
    "Ind57 = FTO1['DNC'].squeeze()"
   ]
  },
  {
   "cell_type": "markdown",
   "metadata": {},
   "source": [
    "### Attrition from Academy"
   ]
  },
  {
   "cell_type": "code",
   "execution_count": 23,
   "metadata": {},
   "outputs": [],
   "source": [
    "dataA = [['African American', 30, 24],['Asian', 42, 16], ['Latino', 77, 38], ['Other', 3, 1], ['White', 49, 20],['Total',201,99]]"
   ]
  },
  {
   "cell_type": "code",
   "execution_count": 24,
   "metadata": {},
   "outputs": [],
   "source": [
    "Aca1 = pd.DataFrame(dataA, columns = ['Race','Completed','DNC'])"
   ]
  },
  {
   "cell_type": "code",
   "execution_count": 25,
   "metadata": {},
   "outputs": [],
   "source": [
    "Aca1.set_index('Race', inplace=True)"
   ]
  },
  {
   "cell_type": "code",
   "execution_count": 26,
   "metadata": {},
   "outputs": [
    {
     "data": {
      "text/html": [
       "<div>\n",
       "<style scoped>\n",
       "    .dataframe tbody tr th:only-of-type {\n",
       "        vertical-align: middle;\n",
       "    }\n",
       "\n",
       "    .dataframe tbody tr th {\n",
       "        vertical-align: top;\n",
       "    }\n",
       "\n",
       "    .dataframe thead th {\n",
       "        text-align: right;\n",
       "    }\n",
       "</style>\n",
       "<table border=\"1\" class=\"dataframe\">\n",
       "  <thead>\n",
       "    <tr style=\"text-align: right;\">\n",
       "      <th></th>\n",
       "      <th>Completed</th>\n",
       "      <th>DNC</th>\n",
       "    </tr>\n",
       "    <tr>\n",
       "      <th>Race</th>\n",
       "      <th></th>\n",
       "      <th></th>\n",
       "    </tr>\n",
       "  </thead>\n",
       "  <tbody>\n",
       "    <tr>\n",
       "      <th>African American</th>\n",
       "      <td>30</td>\n",
       "      <td>24</td>\n",
       "    </tr>\n",
       "    <tr>\n",
       "      <th>Asian</th>\n",
       "      <td>42</td>\n",
       "      <td>16</td>\n",
       "    </tr>\n",
       "    <tr>\n",
       "      <th>Latino</th>\n",
       "      <td>77</td>\n",
       "      <td>38</td>\n",
       "    </tr>\n",
       "    <tr>\n",
       "      <th>Other</th>\n",
       "      <td>3</td>\n",
       "      <td>1</td>\n",
       "    </tr>\n",
       "    <tr>\n",
       "      <th>White</th>\n",
       "      <td>49</td>\n",
       "      <td>20</td>\n",
       "    </tr>\n",
       "    <tr>\n",
       "      <th>Total</th>\n",
       "      <td>201</td>\n",
       "      <td>99</td>\n",
       "    </tr>\n",
       "  </tbody>\n",
       "</table>\n",
       "</div>"
      ],
      "text/plain": [
       "                  Completed  DNC\n",
       "Race                            \n",
       "African American         30   24\n",
       "Asian                    42   16\n",
       "Latino                   77   38\n",
       "Other                     3    1\n",
       "White                    49   20\n",
       "Total                   201   99"
      ]
     },
     "execution_count": 26,
     "metadata": {},
     "output_type": "execute_result"
    }
   ],
   "source": [
    "Aca1"
   ]
  },
  {
   "cell_type": "code",
   "execution_count": 27,
   "metadata": {},
   "outputs": [],
   "source": [
    "Aca1 = Aca1[['Completed','DNC']]\n",
    "cols = ['Completed', 'DNC']\n",
    "Aca1[cols] = round(Aca1[cols].div(Aca1[cols].sum(axis=1), axis=0).multiply(100),3)"
   ]
  },
  {
   "cell_type": "code",
   "execution_count": 28,
   "metadata": {},
   "outputs": [
    {
     "data": {
      "text/html": [
       "<div>\n",
       "<style scoped>\n",
       "    .dataframe tbody tr th:only-of-type {\n",
       "        vertical-align: middle;\n",
       "    }\n",
       "\n",
       "    .dataframe tbody tr th {\n",
       "        vertical-align: top;\n",
       "    }\n",
       "\n",
       "    .dataframe thead th {\n",
       "        text-align: right;\n",
       "    }\n",
       "</style>\n",
       "<table border=\"1\" class=\"dataframe\">\n",
       "  <thead>\n",
       "    <tr style=\"text-align: right;\">\n",
       "      <th></th>\n",
       "      <th>Completed</th>\n",
       "      <th>DNC</th>\n",
       "    </tr>\n",
       "    <tr>\n",
       "      <th>Race</th>\n",
       "      <th></th>\n",
       "      <th></th>\n",
       "    </tr>\n",
       "  </thead>\n",
       "  <tbody>\n",
       "    <tr>\n",
       "      <th>African American</th>\n",
       "      <td>55.556</td>\n",
       "      <td>44.444</td>\n",
       "    </tr>\n",
       "    <tr>\n",
       "      <th>Asian</th>\n",
       "      <td>72.414</td>\n",
       "      <td>27.586</td>\n",
       "    </tr>\n",
       "    <tr>\n",
       "      <th>Latino</th>\n",
       "      <td>66.957</td>\n",
       "      <td>33.043</td>\n",
       "    </tr>\n",
       "    <tr>\n",
       "      <th>Other</th>\n",
       "      <td>75.000</td>\n",
       "      <td>25.000</td>\n",
       "    </tr>\n",
       "    <tr>\n",
       "      <th>White</th>\n",
       "      <td>71.014</td>\n",
       "      <td>28.986</td>\n",
       "    </tr>\n",
       "    <tr>\n",
       "      <th>Total</th>\n",
       "      <td>67.000</td>\n",
       "      <td>33.000</td>\n",
       "    </tr>\n",
       "  </tbody>\n",
       "</table>\n",
       "</div>"
      ],
      "text/plain": [
       "                  Completed     DNC\n",
       "Race                               \n",
       "African American     55.556  44.444\n",
       "Asian                72.414  27.586\n",
       "Latino               66.957  33.043\n",
       "Other                75.000  25.000\n",
       "White                71.014  28.986\n",
       "Total                67.000  33.000"
      ]
     },
     "execution_count": 28,
     "metadata": {},
     "output_type": "execute_result"
    }
   ],
   "source": [
    "Aca1"
   ]
  },
  {
   "cell_type": "code",
   "execution_count": 29,
   "metadata": {},
   "outputs": [],
   "source": [
    "Ind56 = Aca1['DNC'].squeeze()"
   ]
  },
  {
   "cell_type": "code",
   "execution_count": 30,
   "metadata": {
    "scrolled": true
   },
   "outputs": [
    {
     "data": {
      "text/html": [
       "<div>\n",
       "<style scoped>\n",
       "    .dataframe tbody tr th:only-of-type {\n",
       "        vertical-align: middle;\n",
       "    }\n",
       "\n",
       "    .dataframe tbody tr th {\n",
       "        vertical-align: top;\n",
       "    }\n",
       "\n",
       "    .dataframe thead th {\n",
       "        text-align: right;\n",
       "    }\n",
       "</style>\n",
       "<table border=\"1\" class=\"dataframe\">\n",
       "  <thead>\n",
       "    <tr style=\"text-align: right;\">\n",
       "      <th></th>\n",
       "      <th>Indicator 27</th>\n",
       "      <th>Indicator 11</th>\n",
       "      <th>Indicator 47</th>\n",
       "      <th>Indicator 56</th>\n",
       "      <th>Indicator 57</th>\n",
       "    </tr>\n",
       "  </thead>\n",
       "  <tbody>\n",
       "    <tr>\n",
       "      <th>African American</th>\n",
       "      <td>29.534</td>\n",
       "      <td>213.152900</td>\n",
       "      <td>5.933209</td>\n",
       "      <td>44.444</td>\n",
       "      <td>32.000</td>\n",
       "    </tr>\n",
       "    <tr>\n",
       "      <th>Asian</th>\n",
       "      <td>19.305</td>\n",
       "      <td>131.924064</td>\n",
       "      <td>2.426370</td>\n",
       "      <td>27.586</td>\n",
       "      <td>37.931</td>\n",
       "    </tr>\n",
       "    <tr>\n",
       "      <th>Latino</th>\n",
       "      <td>6.438</td>\n",
       "      <td>85.882149</td>\n",
       "      <td>5.010740</td>\n",
       "      <td>33.043</td>\n",
       "      <td>25.806</td>\n",
       "    </tr>\n",
       "    <tr>\n",
       "      <th>Other</th>\n",
       "      <td>11.464</td>\n",
       "      <td>167.601896</td>\n",
       "      <td>2.879544</td>\n",
       "      <td>25.000</td>\n",
       "      <td>9.091</td>\n",
       "    </tr>\n",
       "    <tr>\n",
       "      <th>White</th>\n",
       "      <td>40.591</td>\n",
       "      <td>123.723077</td>\n",
       "      <td>1.274874</td>\n",
       "      <td>28.986</td>\n",
       "      <td>10.000</td>\n",
       "    </tr>\n",
       "    <tr>\n",
       "      <th>Total</th>\n",
       "      <td>15.450</td>\n",
       "      <td>124.190447</td>\n",
       "      <td>2.487404</td>\n",
       "      <td>33.000</td>\n",
       "      <td>24.841</td>\n",
       "    </tr>\n",
       "  </tbody>\n",
       "</table>\n",
       "</div>"
      ],
      "text/plain": [
       "                  Indicator 27  Indicator 11  Indicator 47  Indicator 56  \\\n",
       "African American        29.534    213.152900      5.933209        44.444   \n",
       "Asian                   19.305    131.924064      2.426370        27.586   \n",
       "Latino                   6.438     85.882149      5.010740        33.043   \n",
       "Other                   11.464    167.601896      2.879544        25.000   \n",
       "White                   40.591    123.723077      1.274874        28.986   \n",
       "Total                   15.450    124.190447      2.487404        33.000   \n",
       "\n",
       "                  Indicator 57  \n",
       "African American        32.000  \n",
       "Asian                   37.931  \n",
       "Latino                  25.806  \n",
       "Other                    9.091  \n",
       "White                   10.000  \n",
       "Total                   24.841  "
      ]
     },
     "execution_count": 30,
     "metadata": {},
     "output_type": "execute_result"
    }
   ],
   "source": [
    "IndSum = pd.concat([I1[0], I2[0], I3[0], Ind56, Ind57], axis=1)\n",
    "IndSum.columns = ['Indicator 27','Indicator 11','Indicator 47','Indicator 56','Indicator 57']\n",
    "IndSum"
   ]
  },
  {
   "cell_type": "markdown",
   "metadata": {},
   "source": [
    "### PS : Data not available for Indicators - \n",
    "\n",
    "#### 40 - Homelessness, \n",
    "\n",
    "#### 65 - Voter Turnout, \n",
    "\n",
    "#### 66 - Equal access"
   ]
  },
  {
   "cell_type": "markdown",
   "metadata": {},
   "source": [
    "## ML - Random Forest"
   ]
  },
  {
   "cell_type": "code",
   "execution_count": 31,
   "metadata": {},
   "outputs": [],
   "source": [
    "PBF1 = PBF[['RACE','WAGP','HICOV','KIT','SOCP','PLM','ESR','FS']]"
   ]
  },
  {
   "cell_type": "code",
   "execution_count": 32,
   "metadata": {},
   "outputs": [
    {
     "name": "stderr",
     "output_type": "stream",
     "text": [
      "C:\\Users\\Pranav\\Anaconda3\\lib\\site-packages\\pandas\\core\\series.py:4515: SettingWithCopyWarning: \n",
      "A value is trying to be set on a copy of a slice from a DataFrame\n",
      "\n",
      "See the caveats in the documentation: https://pandas.pydata.org/pandas-docs/stable/user_guide/indexing.html#returning-a-view-versus-a-copy\n",
      "  method=method,\n"
     ]
    }
   ],
   "source": [
    "PBF1['RACE'].replace({'African American':0, 'Asian':1, 'Latino':2, 'Other':3, 'White':4},inplace=True)"
   ]
  },
  {
   "cell_type": "code",
   "execution_count": 33,
   "metadata": {},
   "outputs": [],
   "source": [
    "PBF2 = PBF1.dropna()"
   ]
  },
  {
   "cell_type": "code",
   "execution_count": 34,
   "metadata": {},
   "outputs": [],
   "source": [
    "from sklearn.model_selection import train_test_split\n",
    "\n",
    "X=PBF2[['FS', 'HICOV', 'RACE','PLM','KIT']]  # Features\n",
    "y=PBF2['ESR']  # Labels\n",
    "\n",
    "# Split dataset into training set and test set\n",
    "X_train, X_test, y_train, y_test = train_test_split(X, y, test_size=0.4)"
   ]
  },
  {
   "cell_type": "code",
   "execution_count": 35,
   "metadata": {},
   "outputs": [
    {
     "data": {
      "text/plain": [
       "((234532, 5), (234532,))"
      ]
     },
     "execution_count": 35,
     "metadata": {},
     "output_type": "execute_result"
    }
   ],
   "source": [
    "X_train.shape, y_train.shape"
   ]
  },
  {
   "cell_type": "code",
   "execution_count": 36,
   "metadata": {},
   "outputs": [
    {
     "data": {
      "text/plain": [
       "((156356, 5), (156356,))"
      ]
     },
     "execution_count": 36,
     "metadata": {},
     "output_type": "execute_result"
    }
   ],
   "source": [
    "X_test.shape, y_test.shape"
   ]
  },
  {
   "cell_type": "code",
   "execution_count": 37,
   "metadata": {},
   "outputs": [],
   "source": [
    "from sklearn.ensemble import RandomForestClassifier\n",
    "\n",
    "#Create a Gaussian Classifier\n",
    "clf=RandomForestClassifier(n_estimators=100)\n",
    "\n",
    "#Train the model using the training sets y_pred=clf.predict(X_test)\n",
    "clf.fit(X_train,y_train)\n",
    "\n",
    "y_pred=clf.predict(X_test)"
   ]
  },
  {
   "cell_type": "code",
   "execution_count": 38,
   "metadata": {},
   "outputs": [
    {
     "name": "stdout",
     "output_type": "stream",
     "text": [
      "Accuracy: 0.842276599554862\n"
     ]
    }
   ],
   "source": [
    "from sklearn import metrics\n",
    "\n",
    "print(\"Accuracy:\",metrics.accuracy_score(y_test, y_pred))"
   ]
  },
  {
   "cell_type": "code",
   "execution_count": 39,
   "metadata": {},
   "outputs": [
    {
     "data": {
      "text/plain": [
       "RandomForestClassifier(bootstrap=True, ccp_alpha=0.0, class_weight=None,\n",
       "                       criterion='gini', max_depth=None, max_features='auto',\n",
       "                       max_leaf_nodes=None, max_samples=None,\n",
       "                       min_impurity_decrease=0.0, min_impurity_split=None,\n",
       "                       min_samples_leaf=1, min_samples_split=2,\n",
       "                       min_weight_fraction_leaf=0.0, n_estimators=100, n_jobs=1,\n",
       "                       oob_score=False, random_state=None, verbose=0,\n",
       "                       warm_start=False)"
      ]
     },
     "execution_count": 39,
     "metadata": {},
     "output_type": "execute_result"
    }
   ],
   "source": [
    "RandomForestClassifier(bootstrap=True, class_weight=None, criterion='gini',\n",
    "            max_depth=None, max_features='auto', max_leaf_nodes=None,\n",
    "            min_impurity_decrease=0.0, min_impurity_split=None,\n",
    "            min_samples_leaf=1, min_samples_split=2,\n",
    "            min_weight_fraction_leaf=0.0, n_estimators=100, n_jobs=1,\n",
    "            oob_score=False, random_state=None, verbose=0,\n",
    "            warm_start=False)"
   ]
  },
  {
   "cell_type": "code",
   "execution_count": 40,
   "metadata": {},
   "outputs": [
    {
     "name": "stdout",
     "output_type": "stream",
     "text": [
      "[[131358      0      0      0    122]\n",
      " [  2519      0      0      0      0]\n",
      " [  6022      0    180      0      0]\n",
      " [   465      0      0      0      0]\n",
      " [ 15533      0      0      0    157]]\n"
     ]
    },
    {
     "name": "stderr",
     "output_type": "stream",
     "text": [
      "C:\\Users\\Pranav\\Anaconda3\\lib\\site-packages\\sklearn\\metrics\\_classification.py:1272: UndefinedMetricWarning: Precision and F-score are ill-defined and being set to 0.0 in labels with no predicted samples. Use `zero_division` parameter to control this behavior.\n",
      "  _warn_prf(average, modifier, msg_start, len(result))\n"
     ]
    },
    {
     "name": "stdout",
     "output_type": "stream",
     "text": [
      "              precision    recall  f1-score   support\n",
      "\n",
      "         1.0       0.84      1.00      0.91    131480\n",
      "         2.0       0.00      0.00      0.00      2519\n",
      "         3.0       1.00      0.03      0.06      6202\n",
      "         4.0       0.00      0.00      0.00       465\n",
      "         6.0       0.56      0.01      0.02     15690\n",
      "\n",
      "    accuracy                           0.84    156356\n",
      "   macro avg       0.48      0.21      0.20    156356\n",
      "weighted avg       0.80      0.84      0.77    156356\n",
      "\n",
      "0.842276599554862\n"
     ]
    }
   ],
   "source": [
    "from sklearn.metrics import classification_report, confusion_matrix, accuracy_score\n",
    "\n",
    "print(confusion_matrix(y_test,y_pred))\n",
    "print(classification_report(y_test,y_pred))\n",
    "print(accuracy_score(y_test, y_pred))"
   ]
  },
  {
   "cell_type": "code",
   "execution_count": 41,
   "metadata": {},
   "outputs": [
    {
     "data": {
      "image/png": "[encoded data removed]",
      "text/plain": [
       "<Figure size 576x252 with 1 Axes>"
      ]
     },
     "metadata": {
      "needs_background": "light"
     },
     "output_type": "display_data"
    }
   ],
   "source": [
    "import shap\n",
    "\n",
    "explainer = shap.TreeExplainer(clf)\n",
    "shap_values = explainer.shap_values(X_test)\n",
    "\n",
    "shap.summary_plot(shap_values[1], X_test, plot_type=\"bar\")"
   ]
  },
  {
   "cell_type": "markdown",
   "metadata": {},
   "source": [
    "## Stats - Chi Square"
   ]
  },
  {
   "cell_type": "code",
   "execution_count": 42,
   "metadata": {},
   "outputs": [],
   "source": [
    "P19 = pca191_Ok"
   ]
  },
  {
   "cell_type": "code",
   "execution_count": 43,
   "metadata": {},
   "outputs": [],
   "source": [
    "import numpy as np\n",
    "from scipy.stats import chi2_contingency\n",
    "from scipy.stats import chi2"
   ]
  },
  {
   "cell_type": "markdown",
   "metadata": {},
   "source": [
    "### SNAP"
   ]
  },
  {
   "cell_type": "code",
   "execution_count": 44,
   "metadata": {},
   "outputs": [],
   "source": [
    "def SNAP():\n",
    "    fs1 = P19[['RACE','FS']]\n",
    "    fs2 = pd.crosstab(fs1['RACE'],fs1['FS'])\n",
    "    z1 = fs2.iloc[['0','4']]\n",
    "    stat1, p1, dof1, expected1 = chi2_contingency(fs2)\n",
    "    print('dof=%d' % dof1)\n",
    "    print(expected1)\n",
    "\n",
    "    prob = 0.95\n",
    "    critical1 = chi2.ppf(prob, dof1)\n",
    "    print('probability=%.3f, critical=%.3f, stat=%.3f' % (prob, critical1, stat1))\n",
    "    if abs(stat1) >= critical1:\n",
    "        print('Dependent (reject H0)')\n",
    "    else:\n",
    "        print('Independent (fail to reject H0)')\n",
    "    # interpret p-value\n",
    "    alpha = 1.0 - prob\n",
    "    print('significance=%.3f, p=%.3f' % (alpha, p1))\n",
    "    if p1 <= alpha:\n",
    "        print('Dependent (reject H0)')\n",
    "    else:\n",
    "        print('Independent (fail to reject H0)')\n",
    "    return stat1,p1,dof1,expected1;"
   ]
  },
  {
   "cell_type": "code",
   "execution_count": 45,
   "metadata": {},
   "outputs": [
    {
     "name": "stdout",
     "output_type": "stream",
     "text": [
      "dof=4\n",
      "[[ 12331.61647645 111329.38352355]\n",
      " [ 12529.46322756 113115.53677244]\n",
      " [ 15096.88381936 136294.11618064]\n",
      " [  3595.74503609  32462.25496391]\n",
      " [ 18813.29144055 169845.70855945]]\n",
      "probability=0.950, critical=9.488, stat=19856.473\n",
      "Dependent (reject H0)\n",
      "significance=0.050, p=0.000\n",
      "Dependent (reject H0)\n"
     ]
    }
   ],
   "source": [
    "CSq1 = SNAP()"
   ]
  },
  {
   "cell_type": "markdown",
   "metadata": {},
   "source": [
    "### Health Insurance"
   ]
  },
  {
   "cell_type": "code",
   "execution_count": 46,
   "metadata": {},
   "outputs": [],
   "source": [
    "def HealthInsCS():\n",
    "    h1 = P19[['RACE','HICOV']]\n",
    "    h2 = pd.crosstab(h1['RACE'],h1['HICOV'])\n",
    "    from scipy.stats import chi2_contingency\n",
    "    from scipy.stats import chi2\n",
    "\n",
    "\n",
    "    stat2, p2, dof2, expected2 = chi2_contingency(h2)\n",
    "    print('dof=%d' % dof2)\n",
    "    print(expected2)\n",
    "    prob = 0.95\n",
    "    critical2 = chi2.ppf(prob, dof2)\n",
    "    print('probability=%.3f, critical=%.3f, stat=%.3f' % (prob, critical2, stat2))\n",
    "    if abs(stat2) >= critical2:\n",
    "        print('Dependent (reject H0)')\n",
    "    else:\n",
    "        print('Independent (fail to reject H0)')\n",
    "    # interpret p-value\n",
    "    alpha = 1.0 - prob\n",
    "    print('significance=%.3f, p=%.3f' % (alpha, p2))\n",
    "    if p2 <= alpha:\n",
    "        print('Dependent (reject H0)')\n",
    "    else:\n",
    "        print('Independent (fail to reject H0)')\n",
    "    return stat2,critical2,p2,dof2,expected2;"
   ]
  },
  {
   "cell_type": "code",
   "execution_count": 47,
   "metadata": {},
   "outputs": [
    {
     "name": "stdout",
     "output_type": "stream",
     "text": [
      "dof=4\n",
      "[[116143.43368393   7517.56631607]\n",
      " [118006.82288852   7638.17711148]\n",
      " [142187.67896785   9203.32103215]\n",
      " [ 33865.97174352   2192.02825648]\n",
      " [177190.09271618  11468.90728382]]\n",
      "probability=0.950, critical=9.488, stat=21078.944\n",
      "Dependent (reject H0)\n",
      "significance=0.050, p=0.000\n",
      "Dependent (reject H0)\n"
     ]
    }
   ],
   "source": [
    "CSq2 = HealthInsCS() "
   ]
  },
  {
   "cell_type": "markdown",
   "metadata": {},
   "source": [
    "### Financial Assistance"
   ]
  },
  {
   "cell_type": "code",
   "execution_count": 48,
   "metadata": {},
   "outputs": [],
   "source": [
    "def FinAssist():\n",
    "    f1 = P19[['RACE','PAP']]\n",
    "    f2 = pd.crosstab(f1['RACE'],f1['PAP'])\n",
    "    col_list= list(f2)\n",
    "    col_list.remove(0)\n",
    "    f2['1'] = f2[col_list].sum(axis=1)\n",
    "    f3 = f2.iloc[:, list(range(1)) + [-1]]\n",
    "    stat3, p3, dof3, expected3 = chi2_contingency(f3)\n",
    "    print('dof=%d' % dof3)\n",
    "    print(expected3)\n",
    "    # interpret test-statistic\n",
    "    prob = 0.95\n",
    "    critical3 = chi2.ppf(prob, dof3)\n",
    "    print('probability=%.3f, critical=%.3f, stat=%.3f' % (prob, critical3, stat3))\n",
    "    if abs(stat3) >= critical3:\n",
    "        print('Dependent (reject H0)')\n",
    "    else:\n",
    "        print('Independent (fail to reject H0)')\n",
    "    # interpret p-value\n",
    "    alpha = 1.0 - prob\n",
    "    print('significance=%.3f, p=%.3f' % (alpha, p3))\n",
    "    if p3 <= alpha:\n",
    "        print('Dependent (reject H0)')\n",
    "    else:\n",
    "        print('Independent (fail to reject H0)')\n",
    "    return stat3,p3,dof3,expected3;"
   ]
  },
  {
   "cell_type": "code",
   "execution_count": 49,
   "metadata": {},
   "outputs": [
    {
     "name": "stdout",
     "output_type": "stream",
     "text": [
      "dof=4\n",
      "[[100412.99396108   2079.00603892]\n",
      " [112687.84859694   2333.15140306]\n",
      " [112246.97665296   2324.02334704]\n",
      " [ 24556.56727973    508.43272027]\n",
      " [162591.61350928   3366.38649072]]\n",
      "probability=0.950, critical=9.488, stat=5713.176\n",
      "Dependent (reject H0)\n",
      "significance=0.050, p=0.000\n",
      "Dependent (reject H0)\n"
     ]
    }
   ],
   "source": [
    "CSq3 = FinAssist()"
   ]
  },
  {
   "cell_type": "markdown",
   "metadata": {},
   "source": [
    "### Overcrowding"
   ]
  },
  {
   "cell_type": "code",
   "execution_count": 50,
   "metadata": {},
   "outputs": [],
   "source": [
    "def OverCrowd():\n",
    "    pca191_Ok=P19\n",
    "    pca191_Ok['P_room'] = pca191_Ok['NP']/pca191_Ok['RMSP'] # person per room is no. of persons /no. of rooms\n",
    "    pca191_Ok[pca191_Ok.P_room>1.5].tail(20)\n",
    "    pca191_Ok.loc[(pca191_Ok['P_room'] >= 0.01) & (pca191_Ok['P_room']<= 1.50),'P_room'] = 0\n",
    "    pca191_Ok.loc[(pca191_Ok['P_room']> 1.51),'P_room'] = 1\n",
    "    pca191_Ok.loc[pca191_Ok['P_room'].isnull(),'P_room'] = -1\n",
    "    pca191_Ok_ = pca191_Ok[(pca191_Ok.RACE == \"White\") | (pca191_Ok.RACE == \"African American\") | (pca191_Ok.RACE == \"Asian\") | (pca191_Ok.RACE == \"Other\") | (pca191_Ok.RACE == \"Latino\")] # filtering by race\n",
    "    pca191_Ok_ = pca191_Ok_[pca191_Ok_.P_room != -1]\n",
    "    oc1 = pca191_Ok_[['RACE','P_room']]\n",
    "    oc2 = pd.crosstab(oc1['RACE'],oc1['P_room'])\n",
    "    stat4, p4, dof4, expected4 = chi2_contingency(oc2)\n",
    "    print('dof=%d' % dof4)\n",
    "    print(expected4)\n",
    "    # interpret test-statistic\n",
    "    prob = 0.95\n",
    "    critical4 = chi2.ppf(prob, dof4)\n",
    "    print('probability=%.3f, critical=%.3f, stat=%.3f' % (prob, critical4, stat4))\n",
    "    if abs(stat4) >= critical4:\n",
    "        print('Dependent (reject H0)')\n",
    "    else:\n",
    "        print('Independent (fail to reject H0)')\n",
    "    # interpret p-value\n",
    "    alpha = 1.0 - prob\n",
    "    print('significance=%.3f, p=%.3f' % (alpha, p4))\n",
    "    if p4 <= alpha:\n",
    "        print('Dependent (reject H0)')\n",
    "    else:\n",
    "        print('Independent (fail to reject H0)')\n",
    "    return stat4,p4,dof4,expected4;"
   ]
  },
  {
   "cell_type": "code",
   "execution_count": 51,
   "metadata": {},
   "outputs": [
    {
     "name": "stdout",
     "output_type": "stream",
     "text": [
      "dof=4\n",
      "[[114860.54634429   6992.45365571]\n",
      " [117152.04502026   7131.95497974]\n",
      " [141762.79735711   8630.20264289]\n",
      " [ 33533.55219977   2041.44780023]\n",
      " [175761.05907858  10699.94092142]]\n",
      "probability=0.950, critical=9.488, stat=35610.375\n",
      "Dependent (reject H0)\n",
      "significance=0.050, p=0.000\n",
      "Dependent (reject H0)\n"
     ]
    }
   ],
   "source": [
    "CSq4 = OverCrowd()"
   ]
  },
  {
   "cell_type": "markdown",
   "metadata": {},
   "source": [
    "### Home Ownership"
   ]
  },
  {
   "cell_type": "code",
   "execution_count": 52,
   "metadata": {},
   "outputs": [],
   "source": [
    "def HomeOwn():\n",
    "    home_df = pca191_Ok.loc[((pca191_Ok['RELSHIPP']==20) & (pca191_Ok['TEN'].notna())),[\"RACE\",\"TEN\"]]\n",
    "    home_df = pca191_Ok.loc[((pca191_Ok['RELSHIPP']==20) & (pca191_Ok['TEN'].notna())),[\"RACE\",\"TEN\"]]\n",
    "    home_df = pca191_Ok.loc[((pca191_Ok['RELSHIPP']==20) & (pca191_Ok['TEN'].notna())),[\"RACE\",\"RELSHIPP\",\"TEN\"]]\n",
    "    home_df['Owned'] = np.where(home_df['TEN'].isin([1,2]), 'yes', 'no')\n",
    "    tab1 = pd.crosstab(home_df[home_df.RACE.isin(['Latino','Asian'])].RACE,home_df[home_df.RACE.isin(['Latino','Asian'])].Owned)\n",
    "    ho3 = pd.crosstab(home_df['RACE'],home_df['Owned'])\n",
    "    stat5, p5, dof5, expected5 = chi2_contingency(ho3)\n",
    "    print('dof=%d' % dof5)\n",
    "    print(expected5)\n",
    "    # interpret test-statistic\n",
    "    prob = 0.95\n",
    "    critical5 = chi2.ppf(prob, dof5)\n",
    "    print('probability=%.3f, critical=%.3f, stat=%.3f' % (prob, critical5, stat5))\n",
    "    if abs(stat5) >= critical5:\n",
    "        print('Dependent (reject H0)')\n",
    "    else:\n",
    "        print('Independent (fail to reject H0)')\n",
    "    # interpret p-value\n",
    "    alpha = 1.0 - prob\n",
    "    print('significance=%.3f, p=%.3f' % (alpha, p5))\n",
    "    if p5 <= alpha:\n",
    "        print('Dependent (reject H0)')\n",
    "    else:\n",
    "        print('Independent (fail to reject H0)')\n",
    "    return stat5,p5,dof5,expected5;"
   ]
  },
  {
   "cell_type": "code",
   "execution_count": 53,
   "metadata": {},
   "outputs": [
    {
     "name": "stdout",
     "output_type": "stream",
     "text": [
      "dof=4\n",
      "[[28224.37421481 22027.62578519]\n",
      " [26403.48308203 20606.51691797]\n",
      " [23863.67132928 18624.32867072]\n",
      " [ 6862.88363708  5356.11636292]\n",
      " [50644.5877368  39525.4122632 ]]\n",
      "probability=0.950, critical=9.488, stat=10420.844\n",
      "Dependent (reject H0)\n",
      "significance=0.050, p=0.000\n",
      "Dependent (reject H0)\n"
     ]
    }
   ],
   "source": [
    "CSq5 = HomeOwn()"
   ]
  },
  {
   "cell_type": "markdown",
   "metadata": {},
   "source": [
    "### Chi Square result"
   ]
  },
  {
   "cell_type": "code",
   "execution_count": 54,
   "metadata": {
    "scrolled": true
   },
   "outputs": [],
   "source": [
    "statr = [CSq1[0],CSq2[0],CSq3[0],CSq4[0],CSq5[0]]\n",
    "pvalr = [CSq1[1],CSq2[2],CSq3[1],CSq4[1],CSq5[1]]\n",
    "critr = [CSq2[1],CSq2[1],CSq2[1],CSq2[1],CSq2[1]]\n",
    "dofr = [CSq1[2],CSq2[3],CSq3[2],CSq4[2],CSq5[2]]\n",
    "expall = [CSq1[3],CSq2[3],CSq3[3],CSq4[3],CSq5[3]]\n",
    "ind = ['SNAP','Financaial Assistance','Health Insurance','Overcrowding','Home Ownership']\n",
    "res = ['Dependent','Dependent','Dependent','Dependent','Dependent']"
   ]
  },
  {
   "cell_type": "code",
   "execution_count": 55,
   "metadata": {},
   "outputs": [],
   "source": [
    "CS = pd.DataFrame({'Indicator':ind,'DegreeOfFreedom':dofr,'ChiSq Stat':statr,'Pvalue':pvalr,'CriticalVal':critr,'Result':res})"
   ]
  },
  {
   "cell_type": "code",
   "execution_count": 56,
   "metadata": {},
   "outputs": [],
   "source": [
    "CS.set_index('Indicator', inplace=True)"
   ]
  },
  {
   "cell_type": "code",
   "execution_count": 57,
   "metadata": {},
   "outputs": [
    {
     "data": {
      "text/html": [
       "<div>\n",
       "<style scoped>\n",
       "    .dataframe tbody tr th:only-of-type {\n",
       "        vertical-align: middle;\n",
       "    }\n",
       "\n",
       "    .dataframe tbody tr th {\n",
       "        vertical-align: top;\n",
       "    }\n",
       "\n",
       "    .dataframe thead th {\n",
       "        text-align: right;\n",
       "    }\n",
       "</style>\n",
       "<table border=\"1\" class=\"dataframe\">\n",
       "  <thead>\n",
       "    <tr style=\"text-align: right;\">\n",
       "      <th></th>\n",
       "      <th>DegreeOfFreedom</th>\n",
       "      <th>ChiSq Stat</th>\n",
       "      <th>Pvalue</th>\n",
       "      <th>CriticalVal</th>\n",
       "      <th>Result</th>\n",
       "    </tr>\n",
       "    <tr>\n",
       "      <th>Indicator</th>\n",
       "      <th></th>\n",
       "      <th></th>\n",
       "      <th></th>\n",
       "      <th></th>\n",
       "      <th></th>\n",
       "    </tr>\n",
       "  </thead>\n",
       "  <tbody>\n",
       "    <tr>\n",
       "      <th>SNAP</th>\n",
       "      <td>4</td>\n",
       "      <td>19856.473152</td>\n",
       "      <td>0.0</td>\n",
       "      <td>9.487729</td>\n",
       "      <td>Dependent</td>\n",
       "    </tr>\n",
       "    <tr>\n",
       "      <th>Financaial Assistance</th>\n",
       "      <td>4</td>\n",
       "      <td>21078.944037</td>\n",
       "      <td>0.0</td>\n",
       "      <td>9.487729</td>\n",
       "      <td>Dependent</td>\n",
       "    </tr>\n",
       "    <tr>\n",
       "      <th>Health Insurance</th>\n",
       "      <td>4</td>\n",
       "      <td>5713.176179</td>\n",
       "      <td>0.0</td>\n",
       "      <td>9.487729</td>\n",
       "      <td>Dependent</td>\n",
       "    </tr>\n",
       "    <tr>\n",
       "      <th>Overcrowding</th>\n",
       "      <td>4</td>\n",
       "      <td>35610.375190</td>\n",
       "      <td>0.0</td>\n",
       "      <td>9.487729</td>\n",
       "      <td>Dependent</td>\n",
       "    </tr>\n",
       "    <tr>\n",
       "      <th>Home Ownership</th>\n",
       "      <td>4</td>\n",
       "      <td>10420.843897</td>\n",
       "      <td>0.0</td>\n",
       "      <td>9.487729</td>\n",
       "      <td>Dependent</td>\n",
       "    </tr>\n",
       "  </tbody>\n",
       "</table>\n",
       "</div>"
      ],
      "text/plain": [
       "                       DegreeOfFreedom    ChiSq Stat  Pvalue  CriticalVal  \\\n",
       "Indicator                                                                   \n",
       "SNAP                                 4  19856.473152     0.0     9.487729   \n",
       "Financaial Assistance                4  21078.944037     0.0     9.487729   \n",
       "Health Insurance                     4   5713.176179     0.0     9.487729   \n",
       "Overcrowding                         4  35610.375190     0.0     9.487729   \n",
       "Home Ownership                       4  10420.843897     0.0     9.487729   \n",
       "\n",
       "                          Result  \n",
       "Indicator                         \n",
       "SNAP                   Dependent  \n",
       "Financaial Assistance  Dependent  \n",
       "Health Insurance       Dependent  \n",
       "Overcrowding           Dependent  \n",
       "Home Ownership         Dependent  "
      ]
     },
     "execution_count": 57,
     "metadata": {},
     "output_type": "execute_result"
    }
   ],
   "source": [
    "CS"
   ]
  }
 ],
 "metadata": {
  "kernelspec": {
   "display_name": "Python 3",
   "language": "python",
   "name": "python3"
  },
  "language_info": {
   "codemirror_mode": {
    "name": "ipython",
    "version": 3
   },
   "file_extension": ".py",
   "mimetype": "text/x-python",
   "name": "python",
   "nbconvert_exporter": "python",
   "pygments_lexer": "ipython3",
   "version": "3.7.3"
  }
 },
 "nbformat": 4,
 "nbformat_minor": 2
}
